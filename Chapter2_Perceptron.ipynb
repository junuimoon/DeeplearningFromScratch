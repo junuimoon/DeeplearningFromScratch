{
  "nbformat": 4,
  "nbformat_minor": 0,
  "metadata": {
    "colab": {
      "name": "Chapter2. Perceptron",
      "provenance": [],
      "collapsed_sections": [],
      "authorship_tag": "ABX9TyNYZ7i0stxYYJAl3AniCFKu",
      "include_colab_link": true
    },
    "kernelspec": {
      "name": "python3",
      "display_name": "Python 3"
    }
  },
  "cells": [
    {
      "cell_type": "markdown",
      "metadata": {
        "id": "view-in-github",
        "colab_type": "text"
      },
      "source": [
        "<a href=\"https://colab.research.google.com/github/junuimoon/DeeplearningfromScratch/blob/master/Chapter2_Perceptron.ipynb\" target=\"_parent\"><img src=\"https://colab.research.google.com/assets/colab-badge.svg\" alt=\"Open In Colab\"/></a>"
      ]
    },
    {
      "cell_type": "markdown",
      "metadata": {
        "id": "A3XGEnfHXyZ3",
        "colab_type": "text"
      },
      "source": [
        "2.3 퍼셉트론 구현하기"
      ]
    },
    {
      "cell_type": "code",
      "metadata": {
        "id": "gsIqJnSmX1A5",
        "colab_type": "code",
        "colab": {}
      },
      "source": [
        "#2.3.1 간단한 구현부터\n",
        "\n",
        "def AND(x1, x2):\n",
        "    w1, w2, theta = 0.5, 0.5, 0.7\n",
        "    tmp = x1 * w1 + x1 * w2\n",
        "    if tmp <= theta:\n",
        "        return 0\n",
        "    elif tmp > theta:\n",
        "        return 1"
      ],
      "execution_count": 0,
      "outputs": []
    },
    {
      "cell_type": "code",
      "metadata": {
        "id": "d07Qy9xhYKUj",
        "colab_type": "code",
        "colab": {
          "base_uri": "https://localhost:8080/",
          "height": 35
        },
        "outputId": "fb27ef44-977c-4022-fea5-02be98daa3f6"
      },
      "source": [
        "AND(0,0)\n",
        "AND(1,0)\n",
        "AND(0,1)\n",
        "AND(1,1)"
      ],
      "execution_count": 2,
      "outputs": [
        {
          "output_type": "execute_result",
          "data": {
            "text/plain": [
              "1"
            ]
          },
          "metadata": {
            "tags": []
          },
          "execution_count": 2
        }
      ]
    },
    {
      "cell_type": "code",
      "metadata": {
        "id": "hjcfpHvkYTC9",
        "colab_type": "code",
        "colab": {
          "base_uri": "https://localhost:8080/",
          "height": 35
        },
        "outputId": "0cbe1a8d-0e74-4f56-d2f5-a4aea2886d12"
      },
      "source": [
        "#2.3.2 가중치와 편향 도입\n",
        "\n",
        "import numpy as np\n",
        "x = np.array([0,1])         #입력\n",
        "w = np.array([0.5, 0.5])    #가중치\n",
        "\n",
        "b = -0.7                    #편향(세타)\n",
        "\n",
        "w*x"
      ],
      "execution_count": 4,
      "outputs": [
        {
          "output_type": "execute_result",
          "data": {
            "text/plain": [
              "array([0. , 0.5])"
            ]
          },
          "metadata": {
            "tags": []
          },
          "execution_count": 4
        }
      ]
    },
    {
      "cell_type": "code",
      "metadata": {
        "id": "oqJ4iU8pYpbi",
        "colab_type": "code",
        "colab": {
          "base_uri": "https://localhost:8080/",
          "height": 35
        },
        "outputId": "70c38358-16f9-46fb-e440-78158a9c3b9a"
      },
      "source": [
        "np.sum(w*x)"
      ],
      "execution_count": 5,
      "outputs": [
        {
          "output_type": "execute_result",
          "data": {
            "text/plain": [
              "0.5"
            ]
          },
          "metadata": {
            "tags": []
          },
          "execution_count": 5
        }
      ]
    },
    {
      "cell_type": "code",
      "metadata": {
        "id": "5aLrckhiYu7S",
        "colab_type": "code",
        "colab": {
          "base_uri": "https://localhost:8080/",
          "height": 35
        },
        "outputId": "4535c6eb-9701-40b2-b41f-58783a48ab5f"
      },
      "source": [
        "np.sum(w*x) + b"
      ],
      "execution_count": 6,
      "outputs": [
        {
          "output_type": "execute_result",
          "data": {
            "text/plain": [
              "-0.19999999999999996"
            ]
          },
          "metadata": {
            "tags": []
          },
          "execution_count": 6
        }
      ]
    },
    {
      "cell_type": "code",
      "metadata": {
        "id": "2kFHjzYFYxN3",
        "colab_type": "code",
        "colab": {}
      },
      "source": [
        "def AND(x1, x2):\n",
        "    x = np.array([x1, x2])\n",
        "    w = np.array([0.5, 0.5])\n",
        "    b = -0.7\n",
        "    tmp = np.sum(w*x) + b\n",
        "    if tmp <= 0:\n",
        "        return 0\n",
        "    else:\n",
        "        return 1\n"
      ],
      "execution_count": 0,
      "outputs": []
    },
    {
      "cell_type": "markdown",
      "metadata": {
        "id": "XXcoTphDZIyk",
        "colab_type": "text"
      },
      "source": [
        "2.4 퍼셉트론의 한계"
      ]
    },
    {
      "cell_type": "markdown",
      "metadata": {
        "id": "Ahq_hsW6ZT47",
        "colab_type": "text"
      },
      "source": [
        "퍼셉트론은 직선 하나로 나눈 영역만 표현할 수 있다는 단점이 있다.\n",
        "이를 이용하면, XOR게이트는 사용이 불가능하다(서로 값이 달라야만 1을 출력하는 애)\n",
        "\n",
        "그래서, 이런 애들은 다층으로 퍼셉트론을 쌓아보면 가능하다."
      ]
    },
    {
      "cell_type": "markdown",
      "metadata": {
        "id": "og9cxC7abSPS",
        "colab_type": "text"
      },
      "source": [
        "이론상 모든 회로는 NAND 논리게이트로 해결 가능하다!!"
      ]
    },
    {
      "cell_type": "code",
      "metadata": {
        "id": "72ylnkGXdBUp",
        "colab_type": "code",
        "colab": {}
      },
      "source": [
        ""
      ],
      "execution_count": 0,
      "outputs": []
    }
  ]
}